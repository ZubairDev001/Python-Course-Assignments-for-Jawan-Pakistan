{
 "cells": [
  {
   "cell_type": "code",
   "execution_count": 5,
   "id": "082781b4",
   "metadata": {},
   "outputs": [
    {
     "name": "stdout",
     "output_type": "stream",
     "text": [
      "Enter your first name  Zubair\n",
      "\n",
      "Enter your last nameGhaffar\n",
      "your full name in reverse order is  Ghaffar  Zubair\n"
     ]
    }
   ],
   "source": [
    "firts_name=input(\"Enter your first name  \")\n",
    "print(\"\")\n",
    "last_name=input(\"Enter your last name   \")\n",
    "full_name=[firts_name,last_name]\n",
    "print(\"your full name in reverse order is  \",full_name[1],\"\",full_name[0])"
   ]
  },
  {
   "cell_type": "code",
   "execution_count": null,
   "id": "34689023",
   "metadata": {},
   "outputs": [],
   "source": []
  },
  {
   "cell_type": "code",
   "execution_count": null,
   "id": "54448c96",
   "metadata": {},
   "outputs": [],
   "source": []
  },
  {
   "cell_type": "code",
   "execution_count": null,
   "id": "83752ab3",
   "metadata": {},
   "outputs": [],
   "source": []
  }
 ],
 "metadata": {
  "kernelspec": {
   "display_name": "Python 3",
   "language": "python",
   "name": "python3"
  },
  "language_info": {
   "codemirror_mode": {
    "name": "ipython",
    "version": 3
   },
   "file_extension": ".py",
   "mimetype": "text/x-python",
   "name": "python",
   "nbconvert_exporter": "python",
   "pygments_lexer": "ipython3",
   "version": "3.8.8"
  }
 },
 "nbformat": 4,
 "nbformat_minor": 5
}
