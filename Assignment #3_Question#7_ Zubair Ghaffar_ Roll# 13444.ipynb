{
 "cells": [
  {
   "cell_type": "code",
   "execution_count": null,
   "id": "61f15b12",
   "metadata": {},
   "outputs": [],
   "source": [
    "Eng=int(input(\"Enter English Subject Marks here \"));\n",
    "Isl=int(input(\"Enter Islamiat Subject Marks here \"));\n",
    "Math=int(input(\"Enter Maths Subject Marks here \"));\n",
    "Phy=int(input(\"Enter Physics Subject Marks here \"));\n",
    "Chem=int(input(\"Enter English Subject Marks here \"));\n",
    "\n",
    "print(\"Marks of English are \", Eng);\n",
    "print(\"Marks of Islamiat are \",Isl);\n",
    "print(\"Marks of Maths are \",Math);\n",
    "print(\"Marks of Maths are \",Phy);\n",
    "print(\"Marks of Maths are \",Chem);\n",
    "\n",
    "\n",
    "\n",
    "Total_Marks=500;\n",
    "Percentage=((Eng+Isl+Math+Phy+Chem)/Total_Marks)*100;\n",
    "\n",
    "print (\"percentage of Total Marks is \"+str(Percentage));\n",
    "            \n",
    "if Percentage <=100 and Percentage >= 90:\n",
    "    print(\"Grade of Student is A+\")\n",
    "elif Percentage <=90 and Percentage >= 80:\n",
    "    print(\"Grade of Student is A\")\n",
    "elif Percentage <=80 and Percentage >= 70:\n",
    "    print(\"Grade of Student is B+\")\n",
    "elif Percentage <=70 and Percentage >= 60:\n",
    "    print(\"Grade of Student is B\")    \n",
    "elif Percentage <=60 and Percentage >= 50:\n",
    "    print(\"Grade of Student is C+\")\n",
    "elif Percentage <=50 and Percentage >= 40:\n",
    "    print(\"Grade of Student is C\")\n",
    "elif Percentage <=40 and Percentage >=33:\n",
    "    print(\"Grade of Student is D\")\n",
    "elif Percentage <33 and Percentage>=0:\n",
    "    print(\"Grade of Student is F\")\n",
    "else:\n",
    "    print(\"Error! Please enter correct marks\")\n"
   ]
  }
 ],
 "metadata": {
  "kernelspec": {
   "display_name": "Python 3",
   "language": "python",
   "name": "python3"
  },
  "language_info": {
   "codemirror_mode": {
    "name": "ipython",
    "version": 3
   },
   "file_extension": ".py",
   "mimetype": "text/x-python",
   "name": "python",
   "nbconvert_exporter": "python",
   "pygments_lexer": "ipython3",
   "version": "3.8.8"
  }
 },
 "nbformat": 4,
 "nbformat_minor": 5
}
