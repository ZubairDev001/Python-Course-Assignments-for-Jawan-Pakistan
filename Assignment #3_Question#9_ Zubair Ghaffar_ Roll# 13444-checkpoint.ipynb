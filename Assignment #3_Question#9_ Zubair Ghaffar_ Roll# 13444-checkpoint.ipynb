{
 "cells": [
  {
   "cell_type": "code",
   "execution_count": 28,
   "id": "0fa27ae0",
   "metadata": {},
   "outputs": [
    {
     "name": "stdout",
     "output_type": "stream",
     "text": [
      "31\n"
     ]
    }
   ],
   "source": [
    "\n",
    "list=[\"zubair\",3,5,\"j\",8,\"umair\",2,2,9,2];\n",
    "\n",
    "num=0;\n",
    "\n",
    "for i in list:\n",
    "    if isinstance(i,int):\n",
    "        num=num+i;\n",
    "        \n",
    "    \n",
    "print(num);"
   ]
  },
  {
   "cell_type": "code",
   "execution_count": null,
   "id": "e692dd8a",
   "metadata": {},
   "outputs": [],
   "source": []
  },
  {
   "cell_type": "code",
   "execution_count": null,
   "id": "529c37ed",
   "metadata": {},
   "outputs": [],
   "source": []
  },
  {
   "cell_type": "code",
   "execution_count": null,
   "id": "fb03c121",
   "metadata": {},
   "outputs": [],
   "source": []
  }
 ],
 "metadata": {
  "kernelspec": {
   "display_name": "Python 3",
   "language": "python",
   "name": "python3"
  },
  "language_info": {
   "codemirror_mode": {
    "name": "ipython",
    "version": 3
   },
   "file_extension": ".py",
   "mimetype": "text/x-python",
   "name": "python",
   "nbconvert_exporter": "python",
   "pygments_lexer": "ipython3",
   "version": "3.8.8"
  }
 },
 "nbformat": 4,
 "nbformat_minor": 5
}
