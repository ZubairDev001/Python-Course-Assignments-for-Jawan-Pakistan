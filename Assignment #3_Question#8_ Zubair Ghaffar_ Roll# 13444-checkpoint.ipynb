{
 "cells": [
  {
   "cell_type": "code",
   "execution_count": 5,
   "id": "ba77735a",
   "metadata": {},
   "outputs": [
    {
     "name": "stdout",
     "output_type": "stream",
     "text": [
      "Enter number 120\n",
      "Number is Even\n"
     ]
    }
   ],
   "source": [
    "n=int(input(\"Enter number \"))\n",
    "i=n%2;\n",
    "if i==0:\n",
    "    print(\"Number is Even\")\n",
    "else:\n",
    "    print(\"Nubaer is Odd\")"
   ]
  },
  {
   "cell_type": "code",
   "execution_count": null,
   "id": "486c5918",
   "metadata": {},
   "outputs": [],
   "source": []
  },
  {
   "cell_type": "code",
   "execution_count": null,
   "id": "d5e0ff24",
   "metadata": {},
   "outputs": [],
   "source": []
  }
 ],
 "metadata": {
  "kernelspec": {
   "display_name": "Python 3",
   "language": "python",
   "name": "python3"
  },
  "language_info": {
   "codemirror_mode": {
    "name": "ipython",
    "version": 3
   },
   "file_extension": ".py",
   "mimetype": "text/x-python",
   "name": "python",
   "nbconvert_exporter": "python",
   "pygments_lexer": "ipython3",
   "version": "3.8.8"
  }
 },
 "nbformat": 4,
 "nbformat_minor": 5
}
