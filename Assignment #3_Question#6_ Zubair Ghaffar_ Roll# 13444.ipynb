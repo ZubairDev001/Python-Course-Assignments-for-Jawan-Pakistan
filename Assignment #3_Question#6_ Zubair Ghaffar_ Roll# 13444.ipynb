{
 "cells": [
  {
   "cell_type": "code",
   "execution_count": 7,
   "id": "fd51ec0e",
   "metadata": {},
   "outputs": [
    {
     "name": "stdout",
     "output_type": "stream",
     "text": [
      "Please Enter First Number 5\n",
      "Please Enter Second Number 6\n",
      "Addition of two numbers is  11\n"
     ]
    }
   ],
   "source": [
    "Input1= int(input(\"Please Enter First Number \"))\n",
    "Input2= int(input(\"Please Enter Second Number \"))\n",
    "Output=Input1+Input2\n",
    "print(\"Addition of two numbers is \",Output)\n"
   ]
  },
  {
   "cell_type": "code",
   "execution_count": null,
   "id": "5e7b71a4",
   "metadata": {},
   "outputs": [],
   "source": []
  },
  {
   "cell_type": "code",
   "execution_count": null,
   "id": "e9ec4ede",
   "metadata": {},
   "outputs": [],
   "source": []
  },
  {
   "cell_type": "code",
   "execution_count": null,
   "id": "02dd8e8f",
   "metadata": {},
   "outputs": [],
   "source": []
  }
 ],
 "metadata": {
  "kernelspec": {
   "display_name": "Python 3",
   "language": "python",
   "name": "python3"
  },
  "language_info": {
   "codemirror_mode": {
    "name": "ipython",
    "version": 3
   },
   "file_extension": ".py",
   "mimetype": "text/x-python",
   "name": "python",
   "nbconvert_exporter": "python",
   "pygments_lexer": "ipython3",
   "version": "3.8.8"
  }
 },
 "nbformat": 4,
 "nbformat_minor": 5
}
