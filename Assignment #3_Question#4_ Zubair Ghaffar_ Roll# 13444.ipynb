{
 "cells": [
  {
   "cell_type": "code",
   "execution_count": 9,
   "id": "77a33e10",
   "metadata": {},
   "outputs": [
    {
     "name": "stdout",
     "output_type": "stream",
     "text": [
      "Please Enter Radius of Circle 7\n",
      "Area of Circle is  153.93804002589985\n"
     ]
    }
   ],
   "source": [
    "import math\n",
    "radius=int(input(\"Please Enter Radius of Circle \"))\n",
    "radius_sqr=math.pow(radius,2)\n",
    "Area=radius_sqr*(math.pi)\n",
    "print(\"Area of Circle is \",Area)"
   ]
  },
  {
   "cell_type": "code",
   "execution_count": null,
   "id": "f2db5d2f",
   "metadata": {},
   "outputs": [],
   "source": []
  }
 ],
 "metadata": {
  "kernelspec": {
   "display_name": "Python 3",
   "language": "python",
   "name": "python3"
  },
  "language_info": {
   "codemirror_mode": {
    "name": "ipython",
    "version": 3
   },
   "file_extension": ".py",
   "mimetype": "text/x-python",
   "name": "python",
   "nbconvert_exporter": "python",
   "pygments_lexer": "ipython3",
   "version": "3.8.8"
  }
 },
 "nbformat": 4,
 "nbformat_minor": 5
}
