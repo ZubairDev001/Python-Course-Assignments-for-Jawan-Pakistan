{
 "cells": [
  {
   "cell_type": "code",
   "execution_count": 61,
   "id": "54c97299",
   "metadata": {},
   "outputs": [
    {
     "name": "stdout",
     "output_type": "stream",
     "text": [
      "Larget element is :  8200\n"
     ]
    }
   ],
   "source": [
    "\n",
    "i=0;\n",
    "\n",
    "def find_Max(list):\n",
    "    global j;\n",
    "    j=0;\n",
    "    global i;\n",
    "    i=1;\n",
    "    for k in list:\n",
    "        if list[j]>list[i]:\n",
    "            list[i]=list[j];\n",
    "        j+=1;\n",
    "    return list[i]\n",
    "\n",
    "\n",
    "list=[4,3,6,80,2,5000,8200,1005];        \n",
    "        \n",
    "print(\"Larget element is : \", find_Max(list))\n",
    "        \n",
    "    \n",
    " \n",
    "\n",
    "\n",
    "\n",
    "\n",
    "    \n"
   ]
  },
  {
   "cell_type": "code",
   "execution_count": null,
   "id": "0eea07bb",
   "metadata": {},
   "outputs": [],
   "source": []
  },
  {
   "cell_type": "code",
   "execution_count": null,
   "id": "d417d5c4",
   "metadata": {},
   "outputs": [],
   "source": []
  },
  {
   "cell_type": "code",
   "execution_count": null,
   "id": "a6974c34",
   "metadata": {},
   "outputs": [],
   "source": []
  },
  {
   "cell_type": "code",
   "execution_count": null,
   "id": "1887ef9b",
   "metadata": {},
   "outputs": [],
   "source": []
  },
  {
   "cell_type": "code",
   "execution_count": null,
   "id": "dc25730d",
   "metadata": {},
   "outputs": [],
   "source": []
  },
  {
   "cell_type": "code",
   "execution_count": null,
   "id": "ab2962b5",
   "metadata": {},
   "outputs": [],
   "source": []
  },
  {
   "cell_type": "code",
   "execution_count": null,
   "id": "f0500f43",
   "metadata": {},
   "outputs": [],
   "source": []
  }
 ],
 "metadata": {
  "kernelspec": {
   "display_name": "Python 3",
   "language": "python",
   "name": "python3"
  },
  "language_info": {
   "codemirror_mode": {
    "name": "ipython",
    "version": 3
   },
   "file_extension": ".py",
   "mimetype": "text/x-python",
   "name": "python",
   "nbconvert_exporter": "python",
   "pygments_lexer": "ipython3",
   "version": "3.8.8"
  }
 },
 "nbformat": 4,
 "nbformat_minor": 5
}
